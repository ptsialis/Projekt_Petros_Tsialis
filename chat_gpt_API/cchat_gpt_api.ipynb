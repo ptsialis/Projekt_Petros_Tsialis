{
 "cells": [
  {
   "cell_type": "code",
   "execution_count": 2,
   "id": "91c660c1",
   "metadata": {},
   "outputs": [
    {
     "ename": "TabError",
     "evalue": "inconsistent use of tabs and spaces in indentation (Temp/ipykernel_23740/3631683455.py, line 15)",
     "output_type": "error",
     "traceback": [
      "\u001b[1;36m  File \u001b[1;32m\"C:\\Users\\Petro\\AppData\\Local\\Temp/ipykernel_23740/3631683455.py\"\u001b[1;36m, line \u001b[1;32m15\u001b[0m\n\u001b[1;33m    self.dialog.append({\"role\":\"assistant\",\"content\":antwort})\u001b[0m\n\u001b[1;37m                                                              ^\u001b[0m\n\u001b[1;31mTabError\u001b[0m\u001b[1;31m:\u001b[0m inconsistent use of tabs and spaces in indentation\n"
     ]
    }
   ],
   "source": [
    "import openai\n",
    "\n",
    "\n",
    "class ChatGPT:\n",
    "    def __init__(self, api_key, rolle):\n",
    "        openai.api_key = api_key\n",
    "        self.dialog = [{\"role\":\"system\",\"content\":rolle}]\n",
    "        \n",
    "        \n",
    "    def fragen(self,frage):\n",
    "\n",
    "        self.dialog.append({\"role\":\"user\",\"content\":frage})\n",
    "        ergebnis =  openai.ChatCompletion.create( model = \"gpt-3.5-turbo\", message = self.dialog )\n",
    "        antwort = ergebnis.choices[0].message.content\n",
    "        self.dialog.append({\"role\":\"assistant\",\"content\":antwort})\n",
    "        return antwort\n",
    "\n",
    "\n",
    "\n",
    "if __name__ == \"__main__\":\n",
    "    with open(\"api.key\", \"r\") as api_key:\n",
    "        API_KEY = api_key.read()\n",
    "    \n",
    "    \n",
    "    chat_gpt = ChatGPT(API_KEY, \"Sei ein Data Scientist!\")\n",
    "    \n",
    "    while (frage := input('\\n>')) != 'X':\n",
    "        antwort = chat_gpt.fragen(frage)\n",
    "        print(antwort)"
   ]
  },
  {
   "cell_type": "code",
   "execution_count": null,
   "id": "a30e5b34",
   "metadata": {},
   "outputs": [],
   "source": []
  }
 ],
 "metadata": {
  "kernelspec": {
   "display_name": "Python 3 (ipykernel)",
   "language": "python",
   "name": "python3"
  },
  "language_info": {
   "codemirror_mode": {
    "name": "ipython",
    "version": 3
   },
   "file_extension": ".py",
   "mimetype": "text/x-python",
   "name": "python",
   "nbconvert_exporter": "python",
   "pygments_lexer": "ipython3",
   "version": "3.8.12"
  }
 },
 "nbformat": 4,
 "nbformat_minor": 5
}
